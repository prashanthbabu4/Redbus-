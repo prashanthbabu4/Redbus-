{
 "cells": [
  {
   "cell_type": "code",
   "execution_count": 1,
   "id": "e6a27767-3e18-43cc-8eec-76b6dedd0786",
   "metadata": {},
   "outputs": [],
   "source": [
    "import mysql.connector\n",
    "import pymysql\n",
    "import pandas as pd"
   ]
  },
  {
   "cell_type": "code",
   "execution_count": 4,
   "id": "48865d0c-0bce-40b8-ab5e-70ebfe319c18",
   "metadata": {},
   "outputs": [],
   "source": [
    "conn = mysql.connector.connect(\n",
    "    host=\"127.0.0.1\", \n",
    "    user=\"root\", \n",
    "    password=\"bike\", \n",
    "    database=\"redbus_data\"\n",
    ")\n",
    "cursor = conn.cursor()\n"
   ]
  },
  {
   "cell_type": "code",
   "execution_count": 5,
   "id": "815361f7-1c2c-4eaa-911c-a447eaf5a5c8",
   "metadata": {},
   "outputs": [],
   "source": [
    "create = '''\n",
    "CREATE TABLE redbusdata (\n",
    "    state VARCHAR(50) NOT NULL,\n",
    "    route_name VARCHAR(100) NOT NULL,\n",
    "    route_link VARCHAR(255) NULL,  -- Assuming the route_link is a string or URL\n",
    "    busname VARCHAR(100) NOT NULL,\n",
    "    bustype VARCHAR(100) NOT NULL,\n",
    "    departing_time VARCHAR(50) NOT NULL,\n",
    "    duration VARCHAR(50) NOT NULL,\n",
    "    reaching_time VARCHAR(50) NOT NULL,\n",
    "    star_rating DECIMAL(3, 2) NULL,\n",
    "    price DECIMAL(10, 2) NULL,\n",
    "    seats_available INT NULL\n",
    ");\n",
    "'''\n"
   ]
  },
  {
   "cell_type": "code",
   "execution_count": 6,
   "id": "52e37a0c-aad2-4558-bf72-8d74fe12a549",
   "metadata": {},
   "outputs": [],
   "source": [
    "cursor.execute(create)\n",
    "conn.commit()\n"
   ]
  },
  {
   "cell_type": "code",
   "execution_count": 9,
   "id": "a62652cf-6a3e-4409-98de-f91962c3e22e",
   "metadata": {},
   "outputs": [],
   "source": [
    "insert = \"\"\" \n",
    "INSERT INTO redbusdata (state, route_name, route_link, busname, bustype, departing_time, duration, reaching_time, star_rating, price, seats_available) \n",
    "VALUES (%s, %s, %s, %s, %s, %s, %s, %s, %s, %s,%s)\n",
    "\"\"\"\n"
   ]
  },
  {
   "cell_type": "code",
   "execution_count": 15,
   "id": "ccc9d936-f4c7-4663-b260-e873c638a7b7",
   "metadata": {},
   "outputs": [],
   "source": [
    " \n",
    " \n",
    "\n",
    "# Then, insert the rows\n",
    "for index, row in df.iterrows():\n",
    "    # Convert the row to a tuple (ensure the order of columns matches the table schema)\n",
    "    row_data = (\n",
    "        row['state'], row['route_name'], row['route_link'], row['busname'], row['bustype'],\n",
    "        row['departing_time'], row['duration'], row['reaching_time'],\n",
    "        row['star_rating'], row['price'], row['seats_available']\n",
    "    )\n",
    "    \n",
    "    # Execute the INSERT query with the row data\n",
    "    cursor.execute(insert, row_data)\n",
    "\n",
    "# Commit the changes to the database\n",
    "conn.commit()\n",
    "\n",
    "# Close the connection\n",
    "cursor.close()\n",
    "conn.close()\n"
   ]
  },
  {
   "cell_type": "code",
   "execution_count": null,
   "id": "05bdae34-6f2a-4732-84a2-7dd2194751c3",
   "metadata": {},
   "outputs": [],
   "source": []
  }
 ],
 "metadata": {
  "kernelspec": {
   "display_name": "Python 3 (ipykernel)",
   "language": "python",
   "name": "python3"
  },
  "language_info": {
   "codemirror_mode": {
    "name": "ipython",
    "version": 3
   },
   "file_extension": ".py",
   "mimetype": "text/x-python",
   "name": "python",
   "nbconvert_exporter": "python",
   "pygments_lexer": "ipython3",
   "version": "3.12.2"
  }
 },
 "nbformat": 4,
 "nbformat_minor": 5
}
